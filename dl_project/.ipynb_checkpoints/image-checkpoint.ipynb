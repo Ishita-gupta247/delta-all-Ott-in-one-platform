{
 "cells": [
  {
   "cell_type": "code",
   "execution_count": null,
   "id": "14095167",
   "metadata": {},
   "outputs": [],
   "source": [
    "from cv2 import *\n",
    "from cv2 import VideoCapture,imshow,imwrite,waitKey,destroyWindow\n",
    "# initialize the camera\n",
    "# If you have multiple camera connected with \n",
    "# current device, assign a value in cam_port \n",
    "# variable according to that\n",
    "cam_port = 0\n",
    "cam = VideoCapture(cam_port)\n",
    "  \n",
    "# reading the input using the camera\n",
    "result, image = cam.read()\n",
    "  \n",
    "# If image will detected without any error, \n",
    "# show result\n",
    "if result:\n",
    "  \n",
    "    # showing result, it take frame name and image \n",
    "    # output\n",
    "    imshow(\"LiveCapture\", image)\n",
    "  \n",
    "    # saving image in local storage\n",
    "    imwrite(\"LiveCapture.png\", image)\n",
    "  \n",
    "    # If keyboard interrupt occurs, destroy image \n",
    "    # window\n",
    "    #waitKey(0)\n",
    "    destroyWindow(\"LiveCapture\")\n",
    "  \n",
    "# If captured image is corrupted, moving to else part\n",
    "else:\n",
    "    print(\"No image detected. Please! try again\")"
   ]
  },
  {
   "cell_type": "code",
   "execution_count": 1,
   "id": "84227c9d",
   "metadata": {},
   "outputs": [
    {
     "ename": "OSError",
     "evalue": "No file or directory found at _mini_XCEPTION.102-0.66.hdf5",
     "output_type": "error",
     "traceback": [
      "\u001b[1;31m---------------------------------------------------------------------------\u001b[0m",
      "\u001b[1;31mOSError\u001b[0m                                   Traceback (most recent call last)",
      "\u001b[1;32m~\\AppData\\Local\\Temp/ipykernel_18044/2127763699.py\u001b[0m in \u001b[0;36m<module>\u001b[1;34m\u001b[0m\n\u001b[0;32m     20\u001b[0m \u001b[1;33m\u001b[0m\u001b[0m\n\u001b[0;32m     21\u001b[0m \u001b[0mcascade\u001b[0m\u001b[1;33m=\u001b[0m\u001b[0mcv2\u001b[0m\u001b[1;33m.\u001b[0m\u001b[0mCascadeClassifier\u001b[0m\u001b[1;33m(\u001b[0m\u001b[0mhaar_file\u001b[0m\u001b[1;33m)\u001b[0m\u001b[1;33m\u001b[0m\u001b[1;33m\u001b[0m\u001b[0m\n\u001b[1;32m---> 22\u001b[1;33m \u001b[0memotion_classifier\u001b[0m\u001b[1;33m=\u001b[0m\u001b[0mload_model\u001b[0m\u001b[1;33m(\u001b[0m\u001b[0memotion_model\u001b[0m\u001b[1;33m,\u001b[0m\u001b[0mcompile\u001b[0m\u001b[1;33m=\u001b[0m\u001b[1;32mTrue\u001b[0m\u001b[1;33m)\u001b[0m\u001b[1;33m\u001b[0m\u001b[1;33m\u001b[0m\u001b[0m\n\u001b[0m\u001b[0;32m     23\u001b[0m \u001b[0memotion_names\u001b[0m\u001b[1;33m=\u001b[0m\u001b[1;33m[\u001b[0m\u001b[1;34m\"angry\"\u001b[0m\u001b[1;33m,\u001b[0m\u001b[1;34m\"disgust\"\u001b[0m\u001b[1;33m,\u001b[0m\u001b[1;34m\"fear\"\u001b[0m\u001b[1;33m,\u001b[0m \u001b[1;34m\"happy\"\u001b[0m\u001b[1;33m,\u001b[0m \u001b[1;34m\"sad\"\u001b[0m\u001b[1;33m,\u001b[0m \u001b[1;34m\"surprise\"\u001b[0m\u001b[1;33m,\u001b[0m\u001b[1;34m\"neutral\"\u001b[0m\u001b[1;33m]\u001b[0m\u001b[1;33m\u001b[0m\u001b[1;33m\u001b[0m\u001b[0m\n\u001b[0;32m     24\u001b[0m \u001b[1;31m#frame=cv2.imread('images/disgust_face.jpeg')\u001b[0m\u001b[1;33m\u001b[0m\u001b[1;33m\u001b[0m\u001b[1;33m\u001b[0m\u001b[0m\n",
      "\u001b[1;32m~\\anaconda3\\lib\\site-packages\\keras\\utils\\traceback_utils.py\u001b[0m in \u001b[0;36merror_handler\u001b[1;34m(*args, **kwargs)\u001b[0m\n\u001b[0;32m     65\u001b[0m     \u001b[1;32mexcept\u001b[0m \u001b[0mException\u001b[0m \u001b[1;32mas\u001b[0m \u001b[0me\u001b[0m\u001b[1;33m:\u001b[0m  \u001b[1;31m# pylint: disable=broad-except\u001b[0m\u001b[1;33m\u001b[0m\u001b[1;33m\u001b[0m\u001b[0m\n\u001b[0;32m     66\u001b[0m       \u001b[0mfiltered_tb\u001b[0m \u001b[1;33m=\u001b[0m \u001b[0m_process_traceback_frames\u001b[0m\u001b[1;33m(\u001b[0m\u001b[0me\u001b[0m\u001b[1;33m.\u001b[0m\u001b[0m__traceback__\u001b[0m\u001b[1;33m)\u001b[0m\u001b[1;33m\u001b[0m\u001b[1;33m\u001b[0m\u001b[0m\n\u001b[1;32m---> 67\u001b[1;33m       \u001b[1;32mraise\u001b[0m \u001b[0me\u001b[0m\u001b[1;33m.\u001b[0m\u001b[0mwith_traceback\u001b[0m\u001b[1;33m(\u001b[0m\u001b[0mfiltered_tb\u001b[0m\u001b[1;33m)\u001b[0m \u001b[1;32mfrom\u001b[0m \u001b[1;32mNone\u001b[0m\u001b[1;33m\u001b[0m\u001b[1;33m\u001b[0m\u001b[0m\n\u001b[0m\u001b[0;32m     68\u001b[0m     \u001b[1;32mfinally\u001b[0m\u001b[1;33m:\u001b[0m\u001b[1;33m\u001b[0m\u001b[1;33m\u001b[0m\u001b[0m\n\u001b[0;32m     69\u001b[0m       \u001b[1;32mdel\u001b[0m \u001b[0mfiltered_tb\u001b[0m\u001b[1;33m\u001b[0m\u001b[1;33m\u001b[0m\u001b[0m\n",
      "\u001b[1;32m~\\anaconda3\\lib\\site-packages\\keras\\saving\\save.py\u001b[0m in \u001b[0;36mload_model\u001b[1;34m(filepath, custom_objects, compile, options)\u001b[0m\n\u001b[0;32m    207\u001b[0m         \u001b[1;32mif\u001b[0m \u001b[0misinstance\u001b[0m\u001b[1;33m(\u001b[0m\u001b[0mfilepath\u001b[0m\u001b[1;33m,\u001b[0m \u001b[0mstr\u001b[0m\u001b[1;33m)\u001b[0m\u001b[1;33m:\u001b[0m\u001b[1;33m\u001b[0m\u001b[1;33m\u001b[0m\u001b[0m\n\u001b[0;32m    208\u001b[0m           \u001b[1;32mif\u001b[0m \u001b[1;32mnot\u001b[0m \u001b[0mtf\u001b[0m\u001b[1;33m.\u001b[0m\u001b[0mio\u001b[0m\u001b[1;33m.\u001b[0m\u001b[0mgfile\u001b[0m\u001b[1;33m.\u001b[0m\u001b[0mexists\u001b[0m\u001b[1;33m(\u001b[0m\u001b[0mfilepath\u001b[0m\u001b[1;33m)\u001b[0m\u001b[1;33m:\u001b[0m\u001b[1;33m\u001b[0m\u001b[1;33m\u001b[0m\u001b[0m\n\u001b[1;32m--> 209\u001b[1;33m             \u001b[1;32mraise\u001b[0m \u001b[0mIOError\u001b[0m\u001b[1;33m(\u001b[0m\u001b[1;34mf'No file or directory found at {filepath}'\u001b[0m\u001b[1;33m)\u001b[0m\u001b[1;33m\u001b[0m\u001b[1;33m\u001b[0m\u001b[0m\n\u001b[0m\u001b[0;32m    210\u001b[0m           \u001b[1;32mif\u001b[0m \u001b[0msaving_utils\u001b[0m\u001b[1;33m.\u001b[0m\u001b[0mis_hdf5_filepath\u001b[0m\u001b[1;33m(\u001b[0m\u001b[0mfilepath\u001b[0m\u001b[1;33m)\u001b[0m \u001b[1;32mand\u001b[0m \u001b[0mh5py\u001b[0m \u001b[1;32mis\u001b[0m \u001b[1;32mNone\u001b[0m\u001b[1;33m:\u001b[0m\u001b[1;33m\u001b[0m\u001b[1;33m\u001b[0m\u001b[0m\n\u001b[0;32m    211\u001b[0m             raise ImportError(\n",
      "\u001b[1;31mOSError\u001b[0m: No file or directory found at _mini_XCEPTION.102-0.66.hdf5"
     ]
    }
   ],
   "source": [
    "from scipy.spatial import distance as dist\n",
    "from imutils import face_utils\n",
    "import numpy as np\n",
    "import math\n",
    "import imutils\n",
    "import time\n",
    "import dlib\n",
    "import cv2\n",
    "from cv2 import VideoWriter_fourcc, VideoWriter\n",
    "import matplotlib.pyplot as plt\n",
    "#from keras.preprocessing.image import img_to_array\n",
    "from tensorflow.keras.utils import img_to_array\n",
    "from keras.models import load_model\n",
    "import cv2\n",
    "from keras.models import load_model\n",
    "import numpy as np\n",
    "# loading files\n",
    "haar_file=\"haarcascade_frontalface_default.xml\"\n",
    "emotion_model='_mini_XCEPTION.102-0.66.hdf5'\n",
    "\n",
    "cascade=cv2.CascadeClassifier(haar_file)\n",
    "emotion_classifier=load_model(emotion_model,compile=True)\n",
    "emotion_names=[\"angry\",\"disgust\",\"fear\", \"happy\", \"sad\", \"surprise\",\"neutral\"]\n",
    "#frame=cv2.imread('images/disgust_face.jpeg')\n",
    "#frame=cv2.imread('images/happy_face.jpeg')\n",
    "frame=cv2.imread('LiveCapture.png')\n",
    "#frame=cv2.imread('images/me_happy2.jpg')\n",
    "gray_frame=cv2.cvtColor(frame,cv2.COLOR_BGR2GRAY)\n",
    "faces=cascade.detectMultiScale(gray_frame,1.5,5)\n",
    "text=[]\n",
    "for (x,y,w,h) in faces:\n",
    "    roi=gray_frame[y:y+h,x:x+w]\n",
    "    roi=cv2.resize(roi,(64,64))\n",
    "    roi=roi.astype(\"float\")/255.0\n",
    "    roi=img_to_array(roi)\n",
    "    roi=np.expand_dims(roi,axis=0)\n",
    "    \n",
    "    predicted_emotion=emotion_classifier.predict(roi)[0]\n",
    "    probab=np.max(predicted_emotion)\n",
    "    label=emotion_names[predicted_emotion.argmax()]\n",
    "    percen=predicted_emotion*100\n",
    "    for j in range(7):\n",
    "        text.append(emotion_names[j]+\" : \"+str(percen[j]))\n",
    "    for i in range(7):    \n",
    "        #cv2.putText(frame,text[i],(5,i*30+15),cv2.FONT_HERSHEY_SIMPLEX,0.8,(0,255,255),2)\n",
    "        print(text[i])\n",
    "    cv2.putText(frame,label,(x,y-10),cv2.FONT_HERSHEY_SIMPLEX,2,(255,255,255),1)\n",
    "    cv2.rectangle(frame,(x,y),(x+w,y+h),(0,0,255),2)\n",
    "cv2.imwrite('result.jpg', frame)\n"
   ]
  },
  {
   "cell_type": "code",
   "execution_count": 6,
   "id": "acd89822",
   "metadata": {},
   "outputs": [
    {
     "name": "stdout",
     "output_type": "stream",
     "text": [
      "neutral\n"
     ]
    }
   ],
   "source": [
    "print(label)"
   ]
  },
  {
   "cell_type": "code",
   "execution_count": null,
   "id": "73a5a564",
   "metadata": {},
   "outputs": [],
   "source": []
  }
 ],
 "metadata": {
  "kernelspec": {
   "display_name": "Python 3 (ipykernel)",
   "language": "python",
   "name": "python3"
  },
  "language_info": {
   "codemirror_mode": {
    "name": "ipython",
    "version": 3
   },
   "file_extension": ".py",
   "mimetype": "text/x-python",
   "name": "python",
   "nbconvert_exporter": "python",
   "pygments_lexer": "ipython3",
   "version": "3.8.8"
  }
 },
 "nbformat": 4,
 "nbformat_minor": 5
}
